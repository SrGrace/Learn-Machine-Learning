{
  "cells": [
    {
      "metadata": {
        "_cell_guid": "7302f6da-c80a-4084-9c94-9f7814803ebd",
        "_uuid": "5f3abbb7cf2dcc1c4aab2ebc201b17ca857c5b6e"
      },
      "cell_type": "markdown",
      "source": "*This is part of Kaggle's [Learn Machine Learning](https://www.kaggle.com/learn/machine-learning) series.*\n\n# Selecting and Filtering Data\nYour dataset had  too many variables to wrap your head around, or even to print out nicely.  How can you pare down this overwhelming amount of data to something you can understand?\n\nTo show you the techniques, we'll start by picking a few variables using our intuition. Later tutorials will show you statistical techniques to  automatically prioritize variables.\n\nBefore we can choose variables/columns, it is helpful to see a list of all columns in the dataset. That is done with the **columns** property of the DataFrame (the bottom line of code below)."
    },
    {
      "metadata": {
        "_cell_guid": "f1f8ee3e-acfd-40cf-8a22-6ece9b38a1ab",
        "_uuid": "403f263694c540d758d4cf9c61e606976da501b3",
        "trusted": true
      },
      "cell_type": "code",
      "source": "import pandas as pd\n\nmelbourne_file_path = '../input/melbourne-housing-snapshot/melb_data.csv'\nmelbourne_data = pd.read_csv(melbourne_file_path) \nprint(melbourne_data.columns)",
      "execution_count": 1,
      "outputs": [
        {
          "output_type": "stream",
          "text": "Index(['Unnamed: 0', 'Suburb', 'Address', 'Rooms', 'Type', 'Price', 'Method',\n       'SellerG', 'Date', 'Distance', 'Postcode', 'Bedroom2', 'Bathroom',\n       'Car', 'Landsize', 'BuildingArea', 'YearBuilt', 'CouncilArea',\n       'Lattitude', 'Longtitude', 'Regionname', 'Propertycount'],\n      dtype='object')\n",
          "name": "stdout"
        }
      ]
    },
    {
      "metadata": {
        "_cell_guid": "c90db33f-6c6e-419e-9ec9-f9905064895d",
        "_uuid": "38785578a3b8c087338e1a147cbba99b6c4e865f"
      },
      "cell_type": "markdown",
      "source": "There are many ways to select a subset of your data. We'll start with two main approaches:  \n\n## Selecting a Single Column\nYou can pull out any variable (or column) with **dot-notation**.  This single column is stored in a **Series**, which is broadly like a DataFrame with only a single column of data.  Here's an example:"
    },
    {
      "metadata": {
        "_cell_guid": "21306e4c-fc7a-4b79-970d-dc8758742b5d",
        "_uuid": "39cf81111ac70b8263fe830bc508f9459728ca48",
        "trusted": true
      },
      "cell_type": "code",
      "source": "# store the series of prices separately as melbourne_price_data.\nmelbourne_price_data = melbourne_data.Price\n# the head command returns the top few lines of data.\nprint(melbourne_price_data.head())",
      "execution_count": 2,
      "outputs": [
        {
          "output_type": "stream",
          "text": "0    1480000.0\n1    1035000.0\n2    1465000.0\n3     850000.0\n4    1600000.0\nName: Price, dtype: float64\n",
          "name": "stdout"
        }
      ]
    },
    {
      "metadata": {
        "_cell_guid": "fed04ab7-81fa-425a-8e49-448b3a132efd",
        "_uuid": "f89ed3f9eb05f12c01d72b6331ab563a1fd64277"
      },
      "cell_type": "markdown",
      "source": "## Selecting Multiple Columns\nYou can select multiple columns from a DataFrame by providing a list of column names inside brackets. Remember, each item in that list should be a string (with quotes)."
    },
    {
      "metadata": {
        "_cell_guid": "9561d43f-13e2-443b-a73b-f40e27fc8dd1",
        "_uuid": "ca2cc31e84d02809a535a5214d2f7585d1a52c0d",
        "trusted": true
      },
      "cell_type": "code",
      "source": "columns_of_interest = ['Landsize', 'BuildingArea']\ntwo_columns_of_data = melbourne_data[columns_of_interest]\n\ntwo_columns_of_data",
      "execution_count": 4,
      "outputs": [
        {
          "output_type": "execute_result",
          "execution_count": 4,
          "data": {
            "text/plain": "       Landsize  BuildingArea\n0         202.0           NaN\n1         156.0          79.0\n2         134.0         150.0\n3          94.0           NaN\n4         120.0         142.0\n5         181.0           NaN\n6         245.0         210.0\n7         256.0         107.0\n8           NaN           NaN\n9           NaN           NaN\n10          0.0           NaN\n11        220.0          75.0\n12          NaN           NaN\n13          NaN           NaN\n14          NaN           NaN\n15          0.0           NaN\n16        214.0         190.0\n17          0.0          94.0\n18          NaN           NaN\n19          NaN           NaN\n20        195.0           NaN\n21          0.0           NaN\n22        238.0          97.0\n23        113.0         110.0\n24          NaN           NaN\n25        138.0         105.0\n26        183.0           NaN\n27        150.0          73.0\n28        780.0         135.0\n29          0.0           NaN\n...         ...           ...\n18366       NaN           NaN\n18367       NaN           1.0\n18368       NaN           NaN\n18369       NaN          86.0\n18370     607.0         102.0\n18371       NaN         109.0\n18372     791.0           NaN\n18373       NaN         152.0\n18374       NaN         190.0\n18375     986.0           NaN\n18376     696.0           NaN\n18377     704.0         200.0\n18378     551.0           NaN\n18379     674.0           NaN\n18380     717.0         191.0\n18381       NaN          83.0\n18382     210.0          79.0\n18383       NaN           NaN\n18384     662.0         172.0\n18385       NaN         135.0\n18386     256.0           NaN\n18387       NaN           NaN\n18388     652.0           NaN\n18389     333.0         133.0\n18390     436.0           NaN\n18391       NaN          89.0\n18392     866.0         157.0\n18393       NaN           NaN\n18394     362.0         112.0\n18395       NaN         139.0\n\n[18396 rows x 2 columns]",
            "text/html": "<div>\n<style>\n    .dataframe thead tr:only-child th {\n        text-align: right;\n    }\n\n    .dataframe thead th {\n        text-align: left;\n    }\n\n    .dataframe tbody tr th {\n        vertical-align: top;\n    }\n</style>\n<table border=\"1\" class=\"dataframe\">\n  <thead>\n    <tr style=\"text-align: right;\">\n      <th></th>\n      <th>Landsize</th>\n      <th>BuildingArea</th>\n    </tr>\n  </thead>\n  <tbody>\n    <tr>\n      <th>0</th>\n      <td>202.0</td>\n      <td>NaN</td>\n    </tr>\n    <tr>\n      <th>1</th>\n      <td>156.0</td>\n      <td>79.0</td>\n    </tr>\n    <tr>\n      <th>2</th>\n      <td>134.0</td>\n      <td>150.0</td>\n    </tr>\n    <tr>\n      <th>3</th>\n      <td>94.0</td>\n      <td>NaN</td>\n    </tr>\n    <tr>\n      <th>4</th>\n      <td>120.0</td>\n      <td>142.0</td>\n    </tr>\n    <tr>\n      <th>5</th>\n      <td>181.0</td>\n      <td>NaN</td>\n    </tr>\n    <tr>\n      <th>6</th>\n      <td>245.0</td>\n      <td>210.0</td>\n    </tr>\n    <tr>\n      <th>7</th>\n      <td>256.0</td>\n      <td>107.0</td>\n    </tr>\n    <tr>\n      <th>8</th>\n      <td>NaN</td>\n      <td>NaN</td>\n    </tr>\n    <tr>\n      <th>9</th>\n      <td>NaN</td>\n      <td>NaN</td>\n    </tr>\n    <tr>\n      <th>10</th>\n      <td>0.0</td>\n      <td>NaN</td>\n    </tr>\n    <tr>\n      <th>11</th>\n      <td>220.0</td>\n      <td>75.0</td>\n    </tr>\n    <tr>\n      <th>12</th>\n      <td>NaN</td>\n      <td>NaN</td>\n    </tr>\n    <tr>\n      <th>13</th>\n      <td>NaN</td>\n      <td>NaN</td>\n    </tr>\n    <tr>\n      <th>14</th>\n      <td>NaN</td>\n      <td>NaN</td>\n    </tr>\n    <tr>\n      <th>15</th>\n      <td>0.0</td>\n      <td>NaN</td>\n    </tr>\n    <tr>\n      <th>16</th>\n      <td>214.0</td>\n      <td>190.0</td>\n    </tr>\n    <tr>\n      <th>17</th>\n      <td>0.0</td>\n      <td>94.0</td>\n    </tr>\n    <tr>\n      <th>18</th>\n      <td>NaN</td>\n      <td>NaN</td>\n    </tr>\n    <tr>\n      <th>19</th>\n      <td>NaN</td>\n      <td>NaN</td>\n    </tr>\n    <tr>\n      <th>20</th>\n      <td>195.0</td>\n      <td>NaN</td>\n    </tr>\n    <tr>\n      <th>21</th>\n      <td>0.0</td>\n      <td>NaN</td>\n    </tr>\n    <tr>\n      <th>22</th>\n      <td>238.0</td>\n      <td>97.0</td>\n    </tr>\n    <tr>\n      <th>23</th>\n      <td>113.0</td>\n      <td>110.0</td>\n    </tr>\n    <tr>\n      <th>24</th>\n      <td>NaN</td>\n      <td>NaN</td>\n    </tr>\n    <tr>\n      <th>25</th>\n      <td>138.0</td>\n      <td>105.0</td>\n    </tr>\n    <tr>\n      <th>26</th>\n      <td>183.0</td>\n      <td>NaN</td>\n    </tr>\n    <tr>\n      <th>27</th>\n      <td>150.0</td>\n      <td>73.0</td>\n    </tr>\n    <tr>\n      <th>28</th>\n      <td>780.0</td>\n      <td>135.0</td>\n    </tr>\n    <tr>\n      <th>29</th>\n      <td>0.0</td>\n      <td>NaN</td>\n    </tr>\n    <tr>\n      <th>...</th>\n      <td>...</td>\n      <td>...</td>\n    </tr>\n    <tr>\n      <th>18366</th>\n      <td>NaN</td>\n      <td>NaN</td>\n    </tr>\n    <tr>\n      <th>18367</th>\n      <td>NaN</td>\n      <td>1.0</td>\n    </tr>\n    <tr>\n      <th>18368</th>\n      <td>NaN</td>\n      <td>NaN</td>\n    </tr>\n    <tr>\n      <th>18369</th>\n      <td>NaN</td>\n      <td>86.0</td>\n    </tr>\n    <tr>\n      <th>18370</th>\n      <td>607.0</td>\n      <td>102.0</td>\n    </tr>\n    <tr>\n      <th>18371</th>\n      <td>NaN</td>\n      <td>109.0</td>\n    </tr>\n    <tr>\n      <th>18372</th>\n      <td>791.0</td>\n      <td>NaN</td>\n    </tr>\n    <tr>\n      <th>18373</th>\n      <td>NaN</td>\n      <td>152.0</td>\n    </tr>\n    <tr>\n      <th>18374</th>\n      <td>NaN</td>\n      <td>190.0</td>\n    </tr>\n    <tr>\n      <th>18375</th>\n      <td>986.0</td>\n      <td>NaN</td>\n    </tr>\n    <tr>\n      <th>18376</th>\n      <td>696.0</td>\n      <td>NaN</td>\n    </tr>\n    <tr>\n      <th>18377</th>\n      <td>704.0</td>\n      <td>200.0</td>\n    </tr>\n    <tr>\n      <th>18378</th>\n      <td>551.0</td>\n      <td>NaN</td>\n    </tr>\n    <tr>\n      <th>18379</th>\n      <td>674.0</td>\n      <td>NaN</td>\n    </tr>\n    <tr>\n      <th>18380</th>\n      <td>717.0</td>\n      <td>191.0</td>\n    </tr>\n    <tr>\n      <th>18381</th>\n      <td>NaN</td>\n      <td>83.0</td>\n    </tr>\n    <tr>\n      <th>18382</th>\n      <td>210.0</td>\n      <td>79.0</td>\n    </tr>\n    <tr>\n      <th>18383</th>\n      <td>NaN</td>\n      <td>NaN</td>\n    </tr>\n    <tr>\n      <th>18384</th>\n      <td>662.0</td>\n      <td>172.0</td>\n    </tr>\n    <tr>\n      <th>18385</th>\n      <td>NaN</td>\n      <td>135.0</td>\n    </tr>\n    <tr>\n      <th>18386</th>\n      <td>256.0</td>\n      <td>NaN</td>\n    </tr>\n    <tr>\n      <th>18387</th>\n      <td>NaN</td>\n      <td>NaN</td>\n    </tr>\n    <tr>\n      <th>18388</th>\n      <td>652.0</td>\n      <td>NaN</td>\n    </tr>\n    <tr>\n      <th>18389</th>\n      <td>333.0</td>\n      <td>133.0</td>\n    </tr>\n    <tr>\n      <th>18390</th>\n      <td>436.0</td>\n      <td>NaN</td>\n    </tr>\n    <tr>\n      <th>18391</th>\n      <td>NaN</td>\n      <td>89.0</td>\n    </tr>\n    <tr>\n      <th>18392</th>\n      <td>866.0</td>\n      <td>157.0</td>\n    </tr>\n    <tr>\n      <th>18393</th>\n      <td>NaN</td>\n      <td>NaN</td>\n    </tr>\n    <tr>\n      <th>18394</th>\n      <td>362.0</td>\n      <td>112.0</td>\n    </tr>\n    <tr>\n      <th>18395</th>\n      <td>NaN</td>\n      <td>139.0</td>\n    </tr>\n  </tbody>\n</table>\n<p>18396 rows × 2 columns</p>\n</div>"
          },
          "metadata": {}
        }
      ]
    },
    {
      "metadata": {
        "_cell_guid": "79aa89b8-43cf-4ea7-ad1a-52bc66b4779f",
        "_uuid": "826fe558c344f910d96fd7ac244d0ebfd913b9ac"
      },
      "cell_type": "markdown",
      "source": "We can verify that we got the columns we need with the **describe** command."
    },
    {
      "metadata": {
        "_cell_guid": "d533c58f-f312-4023-aeb6-ae0a04171e9e",
        "_uuid": "ed74795583d2fe9e31bc33df706dc5c70f0dd14f",
        "trusted": true
      },
      "cell_type": "code",
      "source": "two_columns_of_data.describe()",
      "execution_count": 5,
      "outputs": [
        {
          "output_type": "execute_result",
          "execution_count": 5,
          "data": {
            "text/plain": "            Landsize  BuildingArea\ncount   13603.000000   7762.000000\nmean      558.116371    151.220219\nstd      3987.326586    519.188596\nmin         0.000000      0.000000\n25%       176.500000     93.000000\n50%       440.000000    126.000000\n75%       651.000000    174.000000\nmax    433014.000000  44515.000000",
            "text/html": "<div>\n<style>\n    .dataframe thead tr:only-child th {\n        text-align: right;\n    }\n\n    .dataframe thead th {\n        text-align: left;\n    }\n\n    .dataframe tbody tr th {\n        vertical-align: top;\n    }\n</style>\n<table border=\"1\" class=\"dataframe\">\n  <thead>\n    <tr style=\"text-align: right;\">\n      <th></th>\n      <th>Landsize</th>\n      <th>BuildingArea</th>\n    </tr>\n  </thead>\n  <tbody>\n    <tr>\n      <th>count</th>\n      <td>13603.000000</td>\n      <td>7762.000000</td>\n    </tr>\n    <tr>\n      <th>mean</th>\n      <td>558.116371</td>\n      <td>151.220219</td>\n    </tr>\n    <tr>\n      <th>std</th>\n      <td>3987.326586</td>\n      <td>519.188596</td>\n    </tr>\n    <tr>\n      <th>min</th>\n      <td>0.000000</td>\n      <td>0.000000</td>\n    </tr>\n    <tr>\n      <th>25%</th>\n      <td>176.500000</td>\n      <td>93.000000</td>\n    </tr>\n    <tr>\n      <th>50%</th>\n      <td>440.000000</td>\n      <td>126.000000</td>\n    </tr>\n    <tr>\n      <th>75%</th>\n      <td>651.000000</td>\n      <td>174.000000</td>\n    </tr>\n    <tr>\n      <th>max</th>\n      <td>433014.000000</td>\n      <td>44515.000000</td>\n    </tr>\n  </tbody>\n</table>\n</div>"
          },
          "metadata": {}
        }
      ]
    },
    {
      "metadata": {
        "_cell_guid": "dba39a02-e3a7-4e18-a468-81e3b0e4f8c5",
        "_uuid": "f9928f5334bf48a2b256caa9f7ca76524482d212"
      },
      "cell_type": "markdown",
      "source": "# Your Turn\nIn the notebook with your code:\n1. Print a list of the columns\n2. From the list of columns, find a name of the column with the sales prices of the homes. Use the dot notation to extract this to a variable (as you saw above to create `melbourne_price_data`.)\n3. Use the `head` command to print out the top few lines of the variable you just created.\n4. Pick any two variables and store them to a new DataFrame (as you saw above to create `two_columns_of_data`.)\n5. Use the describe command with the DataFrame you just created to see summaries of those variables. <br>\n\n"
    },
    {
      "metadata": {
        "trusted": true,
        "collapsed": true,
        "_uuid": "8246f4afc238740af1c7d1bbb9a990608777ef1f"
      },
      "cell_type": "code",
      "source": "",
      "execution_count": null,
      "outputs": []
    }
  ],
  "metadata": {
    "kernelspec": {
      "display_name": "Python 3",
      "language": "python",
      "name": "python3"
    },
    "language_info": {
      "name": "python",
      "version": "3.6.4",
      "mimetype": "text/x-python",
      "codemirror_mode": {
        "name": "ipython",
        "version": 3
      },
      "pygments_lexer": "ipython3",
      "nbconvert_exporter": "python",
      "file_extension": ".py"
    }
  },
  "nbformat": 4,
  "nbformat_minor": 1
}